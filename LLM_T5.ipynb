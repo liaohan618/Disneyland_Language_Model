{
 "cells": [
  {
   "cell_type": "markdown",
   "id": "65975c2d",
   "metadata": {},
   "source": [
    "# LLM Model for Sentiment Analysis - T5 (Text-to-Text Transfer Transformer)"
   ]
  },
  {
   "cell_type": "markdown",
   "id": "46f69415",
   "metadata": {},
   "source": [
    "# Library Imports"
   ]
  },
  {
   "cell_type": "code",
   "execution_count": 1,
   "id": "22161d64",
   "metadata": {},
   "outputs": [
    {
     "name": "stderr",
     "output_type": "stream",
     "text": [
      "/opt/anaconda3/envs/temp/lib/python3.11/site-packages/tqdm/auto.py:21: TqdmWarning: IProgress not found. Please update jupyter and ipywidgets. See https://ipywidgets.readthedocs.io/en/stable/user_install.html\n",
      "  from .autonotebook import tqdm as notebook_tqdm\n"
     ]
    }
   ],
   "source": [
    "# pip install transformers\n",
    "# pip install datasets\n",
    "# pip install sentencepiece\n",
    "# pip install evaluate\n",
    "\n",
    "import pandas as pd\n",
    "import numpy as np\n",
    "\n",
    "from datasets import Dataset\n",
    "\n",
    "from transformers import (\n",
    "    AutoTokenizer,\n",
    "    T5ForSequenceClassification, # T5 for specifically classification task\n",
    "    TrainingArguments,\n",
    "    Trainer\n",
    ")\n",
    "\n",
    "import evaluate\n",
    "\n",
    "import torch\n",
    "from torch.utils.data import DataLoader"
   ]
  },
  {
   "cell_type": "code",
   "execution_count": 2,
   "id": "fbd3407f",
   "metadata": {},
   "outputs": [
    {
     "name": "stdout",
     "output_type": "stream",
     "text": [
      "Using device: mps\n"
     ]
    }
   ],
   "source": [
    "# check device type\n",
    "if torch.cuda.is_available():\n",
    "    device = torch.device(\"cuda\")   # NVIDIA GPU\n",
    "elif torch.backends.mps.is_available():\n",
    "    device = torch.device(\"mps\")    # Apple Silicon GPU\n",
    "else:\n",
    "    device = torch.device(\"cpu\")    # fallback\n",
    "\n",
    "print(\"Using device:\", device)"
   ]
  },
  {
   "cell_type": "markdown",
   "id": "0f2c4b8e",
   "metadata": {},
   "source": [
    "# Data Loading and Train-Test-Split"
   ]
  },
  {
   "cell_type": "code",
   "execution_count": 3,
   "id": "e4143eb8",
   "metadata": {},
   "outputs": [
    {
     "data": {
      "text/html": [
       "<div>\n",
       "<style scoped>\n",
       "    .dataframe tbody tr th:only-of-type {\n",
       "        vertical-align: middle;\n",
       "    }\n",
       "\n",
       "    .dataframe tbody tr th {\n",
       "        vertical-align: top;\n",
       "    }\n",
       "\n",
       "    .dataframe thead th {\n",
       "        text-align: right;\n",
       "    }\n",
       "</style>\n",
       "<table border=\"1\" class=\"dataframe\">\n",
       "  <thead>\n",
       "    <tr style=\"text-align: right;\">\n",
       "      <th></th>\n",
       "      <th>Review_ID</th>\n",
       "      <th>Rating</th>\n",
       "      <th>Year_Month</th>\n",
       "      <th>Reviewer_Location</th>\n",
       "      <th>Review_Text</th>\n",
       "      <th>Branch</th>\n",
       "    </tr>\n",
       "  </thead>\n",
       "  <tbody>\n",
       "    <tr>\n",
       "      <th>0</th>\n",
       "      <td>670772142</td>\n",
       "      <td>4</td>\n",
       "      <td>2019-4</td>\n",
       "      <td>Australia</td>\n",
       "      <td>If you've ever been to Disneyland anywhere you...</td>\n",
       "      <td>Disneyland_HongKong</td>\n",
       "    </tr>\n",
       "    <tr>\n",
       "      <th>1</th>\n",
       "      <td>670682799</td>\n",
       "      <td>4</td>\n",
       "      <td>2019-5</td>\n",
       "      <td>Philippines</td>\n",
       "      <td>Its been a while since d last time we visit HK...</td>\n",
       "      <td>Disneyland_HongKong</td>\n",
       "    </tr>\n",
       "    <tr>\n",
       "      <th>2</th>\n",
       "      <td>670623270</td>\n",
       "      <td>4</td>\n",
       "      <td>2019-4</td>\n",
       "      <td>United Arab Emirates</td>\n",
       "      <td>Thanks God it wasn   t too hot or too humid wh...</td>\n",
       "      <td>Disneyland_HongKong</td>\n",
       "    </tr>\n",
       "    <tr>\n",
       "      <th>3</th>\n",
       "      <td>670607911</td>\n",
       "      <td>4</td>\n",
       "      <td>2019-4</td>\n",
       "      <td>Australia</td>\n",
       "      <td>HK Disneyland is a great compact park. Unfortu...</td>\n",
       "      <td>Disneyland_HongKong</td>\n",
       "    </tr>\n",
       "    <tr>\n",
       "      <th>4</th>\n",
       "      <td>670607296</td>\n",
       "      <td>4</td>\n",
       "      <td>2019-4</td>\n",
       "      <td>United Kingdom</td>\n",
       "      <td>the location is not in the city, took around 1...</td>\n",
       "      <td>Disneyland_HongKong</td>\n",
       "    </tr>\n",
       "  </tbody>\n",
       "</table>\n",
       "</div>"
      ],
      "text/plain": [
       "   Review_ID  Rating Year_Month     Reviewer_Location  \\\n",
       "0  670772142       4     2019-4             Australia   \n",
       "1  670682799       4     2019-5           Philippines   \n",
       "2  670623270       4     2019-4  United Arab Emirates   \n",
       "3  670607911       4     2019-4             Australia   \n",
       "4  670607296       4     2019-4        United Kingdom   \n",
       "\n",
       "                                         Review_Text               Branch  \n",
       "0  If you've ever been to Disneyland anywhere you...  Disneyland_HongKong  \n",
       "1  Its been a while since d last time we visit HK...  Disneyland_HongKong  \n",
       "2  Thanks God it wasn   t too hot or too humid wh...  Disneyland_HongKong  \n",
       "3  HK Disneyland is a great compact park. Unfortu...  Disneyland_HongKong  \n",
       "4  the location is not in the city, took around 1...  Disneyland_HongKong  "
      ]
     },
     "execution_count": 3,
     "metadata": {},
     "output_type": "execute_result"
    }
   ],
   "source": [
    "df = pd.read_csv(\"DisneylandReviews.csv\",\n",
    "                 encoding = 'latin-1')\n",
    "df.head()"
   ]
  },
  {
   "cell_type": "code",
   "execution_count": 4,
   "id": "eb90f432",
   "metadata": {},
   "outputs": [
    {
     "data": {
      "text/plain": [
       "Rating\n",
       "5    23146\n",
       "4    10775\n",
       "3     5109\n",
       "2     2127\n",
       "1     1499\n",
       "Name: count, dtype: int64"
      ]
     },
     "execution_count": 4,
     "metadata": {},
     "output_type": "execute_result"
    }
   ],
   "source": [
    "# check for any label imbalance\n",
    "df['Rating'].value_counts()"
   ]
  },
  {
   "cell_type": "code",
   "execution_count": 5,
   "id": "fd989e6d",
   "metadata": {},
   "outputs": [],
   "source": [
    "##### USE THIS TO TEST SMALLER SAMPLE #######\n",
    "\n",
    "# sample size\n",
    "sample_size = 1000\n",
    "\n",
    "# 5 labels, so divide sample size for equal label proportions\n",
    "df = df.groupby('Rating').sample(n = int(sample_size / 5), \n",
    "               random_state=42)"
   ]
  },
  {
   "cell_type": "code",
   "execution_count": 6,
   "id": "4f7e0827",
   "metadata": {},
   "outputs": [],
   "source": [
    "# keep the text and label\n",
    "df = dict(df[['Review_Text', 'Rating']])"
   ]
  },
  {
   "cell_type": "code",
   "execution_count": 7,
   "id": "caec1732",
   "metadata": {},
   "outputs": [
    {
     "data": {
      "text/plain": [
       "Dataset({\n",
       "    features: ['Review_Text', 'Rating'],\n",
       "    num_rows: 1000\n",
       "})"
      ]
     },
     "execution_count": 7,
     "metadata": {},
     "output_type": "execute_result"
    }
   ],
   "source": [
    "# convert to Hugging Face dataset\n",
    "dataset = Dataset.from_dict(df)\n",
    "dataset"
   ]
  },
  {
   "cell_type": "markdown",
   "id": "7826ecd4",
   "metadata": {},
   "source": [
    "# Preprocessing"
   ]
  },
  {
   "cell_type": "code",
   "execution_count": 8,
   "id": "fb15de03",
   "metadata": {},
   "outputs": [],
   "source": [
    "model_name = 'google-t5/t5-small'"
   ]
  },
  {
   "cell_type": "code",
   "execution_count": 9,
   "id": "b827536f",
   "metadata": {},
   "outputs": [],
   "source": [
    "# load tokenizer\n",
    "tokenizer = AutoTokenizer.from_pretrained(model_name)"
   ]
  },
  {
   "cell_type": "code",
   "execution_count": 10,
   "id": "687ae774",
   "metadata": {},
   "outputs": [
    {
     "name": "stderr",
     "output_type": "stream",
     "text": [
      "Map: 100%|██████████| 1000/1000 [00:00<00:00, 1358.33 examples/s]\n"
     ]
    }
   ],
   "source": [
    "def preprocess_function(reviews):\n",
    "\n",
    "    # task\n",
    "    inputs = [f\"classify sentiment: {review}\" for review in reviews['Review_Text']]\n",
    "\n",
    "    # tokenize inputs\n",
    "    model_inputs = tokenizer(inputs,\n",
    "                             padding = True,\n",
    "                             truncation = True,\n",
    "                             max_length = 128)\n",
    "    \n",
    "    # append labels\n",
    "    model_inputs['labels'] = reviews['Rating']\n",
    "\n",
    "    return model_inputs\n",
    "\n",
    "# apply preprocessing\n",
    "tokenized_datasets = dataset.map(preprocess_function,\n",
    "                                 batched = True)"
   ]
  },
  {
   "cell_type": "code",
   "execution_count": 11,
   "id": "d251aa22",
   "metadata": {},
   "outputs": [],
   "source": [
    "# train test split\n",
    "tokenized_datasets = tokenized_datasets.train_test_split(test_size = 0.2)\n",
    "train_dataset = tokenized_datasets['train']\n",
    "eval_dataset = tokenized_datasets['test']"
   ]
  },
  {
   "cell_type": "markdown",
   "id": "437933a6",
   "metadata": {},
   "source": [
    "# T5 (Text-to-Text Transfer Transformer) Model"
   ]
  },
  {
   "cell_type": "code",
   "execution_count": 12,
   "id": "776db9f0",
   "metadata": {},
   "outputs": [
    {
     "name": "stderr",
     "output_type": "stream",
     "text": [
      "Some weights of T5ForSequenceClassification were not initialized from the model checkpoint at google-t5/t5-small and are newly initialized: ['classification_head.dense.bias', 'classification_head.dense.weight', 'classification_head.out_proj.bias', 'classification_head.out_proj.weight']\n",
      "You should probably TRAIN this model on a down-stream task to be able to use it for predictions and inference.\n"
     ]
    }
   ],
   "source": [
    "t5_model = T5ForSequenceClassification.from_pretrained(model_name, \n",
    "                                                      num_labels = 5).to(device)"
   ]
  },
  {
   "cell_type": "markdown",
   "id": "0d53be2f",
   "metadata": {},
   "source": [
    "## Evaluation Metrics"
   ]
  },
  {
   "cell_type": "code",
   "execution_count": 13,
   "id": "afe61f17",
   "metadata": {},
   "outputs": [],
   "source": [
    "accuracy = evaluate.load(\"accuracy\")\n",
    "precision = evaluate.load(\"precision\")\n",
    "recall = evaluate.load(\"recall\")\n",
    "f1 = evaluate.load(\"f1\")"
   ]
  },
  {
   "cell_type": "code",
   "execution_count": 14,
   "id": "14b767e0",
   "metadata": {},
   "outputs": [],
   "source": [
    "def compute_metrics(eval_pred):\n",
    "    logits, labels = eval_pred\n",
    "\n",
    "    # Ensure logits are a clean numpy array\n",
    "    if isinstance(logits, tuple):   # sometimes logits is a tuple\n",
    "        logits = logits[0]\n",
    "\n",
    "    logits = np.array(logits)       # force into ndarray\n",
    "    labels = np.array(labels)\n",
    "\n",
    "    preds = np.argmax(logits, axis=-1)\n",
    "\n",
    "    acc = accuracy.compute(predictions=preds, references=labels)\n",
    "    prec = precision.compute(predictions=preds, references=labels, average=\"weighted\")\n",
    "    rec = recall.compute(predictions=preds, references=labels, average=\"weighted\")\n",
    "    f1_score = f1.compute(predictions=preds, references=labels, average=\"weighted\")\n",
    "\n",
    "    return {\n",
    "        \"accuracy\": acc[\"accuracy\"],\n",
    "        \"precision\": prec[\"precision\"],\n",
    "        \"recall\": rec[\"recall\"],\n",
    "        \"f1\": f1_score[\"f1\"]\n",
    "    }"
   ]
  },
  {
   "cell_type": "markdown",
   "id": "923dedbb",
   "metadata": {},
   "source": [
    "## Training Arguments"
   ]
  },
  {
   "cell_type": "code",
   "execution_count": 15,
   "id": "36dbe30c",
   "metadata": {},
   "outputs": [],
   "source": [
    "training_args = TrainingArguments(\n",
    "    output_dir = \"./results\",\n",
    "    eval_strategy = \"steps\",\n",
    "    eval_steps = 10,\n",
    "    save_steps = 20,\n",
    "    save_total_limit = 2,\n",
    "    logging_steps = 10,\n",
    "    learning_rate = 2e-5,\n",
    "    per_device_train_batch_size = 8, # small batch to fit GPU\n",
    "    per_device_eval_batch_size = 8,\n",
    "    gradient_accumulation_steps = 4, # effective batch size = train batch size x gradient accumulation steps (8 x 4 = 32)\n",
    "    num_train_epochs = 1,\n",
    "    weight_decay = 0.01,\n",
    "    report_to = 'none' # avoids unnecessary logging\n",
    " )"
   ]
  },
  {
   "cell_type": "markdown",
   "id": "d098d0f1",
   "metadata": {},
   "source": [
    "## Trainer"
   ]
  },
  {
   "cell_type": "code",
   "execution_count": 16,
   "id": "e3e3dd0d",
   "metadata": {},
   "outputs": [
    {
     "name": "stderr",
     "output_type": "stream",
     "text": [
      "/var/folders/x8/_2v65kgx1zxc0k4y6d9hts5h0000gn/T/ipykernel_18128/611966038.py:1: FutureWarning: `tokenizer` is deprecated and will be removed in version 5.0.0 for `Trainer.__init__`. Use `processing_class` instead.\n",
      "  trainer = Trainer(\n"
     ]
    }
   ],
   "source": [
    "trainer = Trainer(\n",
    "    model = t5_model,\n",
    "    args = training_args,\n",
    "    train_dataset = train_dataset,\n",
    "    eval_dataset = eval_dataset,\n",
    "    tokenizer = tokenizer,\n",
    "    compute_metrics = compute_metrics\n",
    ")\n"
   ]
  },
  {
   "cell_type": "markdown",
   "id": "da2ed8f9",
   "metadata": {},
   "source": [
    "## Model Train"
   ]
  },
  {
   "cell_type": "code",
   "execution_count": 17,
   "id": "26a7ee9b",
   "metadata": {},
   "outputs": [
    {
     "data": {
      "text/html": [
       "\n",
       "    <div>\n",
       "      \n",
       "      <progress value='25' max='25' style='width:300px; height:20px; vertical-align: middle;'></progress>\n",
       "      [25/25 01:22, Epoch 1/1]\n",
       "    </div>\n",
       "    <table border=\"1\" class=\"dataframe\">\n",
       "  <thead>\n",
       " <tr style=\"text-align: left;\">\n",
       "      <th>Step</th>\n",
       "      <th>Training Loss</th>\n",
       "      <th>Validation Loss</th>\n",
       "      <th>Accuracy</th>\n",
       "      <th>Precision</th>\n",
       "      <th>Recall</th>\n",
       "      <th>F1</th>\n",
       "    </tr>\n",
       "  </thead>\n",
       "  <tbody>\n",
       "    <tr>\n",
       "      <td>10</td>\n",
       "      <td>1.347300</td>\n",
       "      <td>1.272316</td>\n",
       "      <td>0.220000</td>\n",
       "      <td>0.078352</td>\n",
       "      <td>0.220000</td>\n",
       "      <td>0.097770</td>\n",
       "    </tr>\n",
       "    <tr>\n",
       "      <td>20</td>\n",
       "      <td>1.286500</td>\n",
       "      <td>1.263750</td>\n",
       "      <td>0.220000</td>\n",
       "      <td>0.083465</td>\n",
       "      <td>0.220000</td>\n",
       "      <td>0.107596</td>\n",
       "    </tr>\n",
       "  </tbody>\n",
       "</table><p>"
      ],
      "text/plain": [
       "<IPython.core.display.HTML object>"
      ]
     },
     "metadata": {},
     "output_type": "display_data"
    },
    {
     "name": "stderr",
     "output_type": "stream",
     "text": [
      "/opt/anaconda3/envs/temp/lib/python3.11/site-packages/sklearn/metrics/_classification.py:1731: UndefinedMetricWarning: Precision is ill-defined and being set to 0.0 in labels with no predicted samples. Use `zero_division` parameter to control this behavior.\n",
      "  _warn_prf(average, modifier, f\"{metric.capitalize()} is\", result.shape[0])\n",
      "/opt/anaconda3/envs/temp/lib/python3.11/site-packages/sklearn/metrics/_classification.py:1731: UndefinedMetricWarning: Precision is ill-defined and being set to 0.0 in labels with no predicted samples. Use `zero_division` parameter to control this behavior.\n",
      "  _warn_prf(average, modifier, f\"{metric.capitalize()} is\", result.shape[0])\n"
     ]
    },
    {
     "name": "stdout",
     "output_type": "stream",
     "text": [
      "CPU times: user 1min 15s, sys: 22.7 s, total: 1min 38s\n",
      "Wall time: 1min 27s\n"
     ]
    },
    {
     "data": {
      "text/plain": [
       "TrainOutput(global_step=25, training_loss=1.2878399276733399, metrics={'train_runtime': 87.7101, 'train_samples_per_second': 9.121, 'train_steps_per_second': 0.285, 'total_flos': 27231312076800.0, 'train_loss': 1.2878399276733399, 'epoch': 1.0})"
      ]
     },
     "execution_count": 17,
     "metadata": {},
     "output_type": "execute_result"
    }
   ],
   "source": [
    "%%time\n",
    "trainer.train()"
   ]
  },
  {
   "cell_type": "markdown",
   "id": "d2bcc8f5",
   "metadata": {},
   "source": [
    "## Results"
   ]
  },
  {
   "cell_type": "code",
   "execution_count": 18,
   "id": "6cf20a3c",
   "metadata": {},
   "outputs": [
    {
     "data": {
      "text/html": [
       "\n",
       "    <div>\n",
       "      \n",
       "      <progress value='25' max='25' style='width:300px; height:20px; vertical-align: middle;'></progress>\n",
       "      [25/25 00:05]\n",
       "    </div>\n",
       "    "
      ],
      "text/plain": [
       "<IPython.core.display.HTML object>"
      ]
     },
     "metadata": {},
     "output_type": "display_data"
    },
    {
     "name": "stderr",
     "output_type": "stream",
     "text": [
      "/opt/anaconda3/envs/temp/lib/python3.11/site-packages/sklearn/metrics/_classification.py:1731: UndefinedMetricWarning: Precision is ill-defined and being set to 0.0 in labels with no predicted samples. Use `zero_division` parameter to control this behavior.\n",
      "  _warn_prf(average, modifier, f\"{metric.capitalize()} is\", result.shape[0])\n"
     ]
    },
    {
     "data": {
      "text/plain": [
       "{'eval_loss': 1.2623703479766846,\n",
       " 'eval_accuracy': 0.23,\n",
       " 'eval_precision': 0.09126470588235294,\n",
       " 'eval_recall': 0.23,\n",
       " 'eval_f1': 0.11565266316579147,\n",
       " 'eval_runtime': 6.1236,\n",
       " 'eval_samples_per_second': 32.661,\n",
       " 'eval_steps_per_second': 4.083,\n",
       " 'epoch': 1.0}"
      ]
     },
     "execution_count": 18,
     "metadata": {},
     "output_type": "execute_result"
    }
   ],
   "source": [
    "trainer.evaluate()"
   ]
  },
  {
   "cell_type": "code",
   "execution_count": 19,
   "id": "8e0aa439",
   "metadata": {},
   "outputs": [
    {
     "data": {
      "text/plain": [
       "('./saved_t5_model/tokenizer_config.json',\n",
       " './saved_t5_model/special_tokens_map.json',\n",
       " './saved_t5_model/spiece.model',\n",
       " './saved_t5_model/added_tokens.json',\n",
       " './saved_t5_model/tokenizer.json')"
      ]
     },
     "execution_count": 19,
     "metadata": {},
     "output_type": "execute_result"
    }
   ],
   "source": [
    "trainer.save_model(\"./saved_t5_model\")\n",
    "tokenizer.save_pretrained(\"./saved_t5_model\")"
   ]
  },
  {
   "cell_type": "markdown",
   "id": "55398ae3",
   "metadata": {},
   "source": [
    "## Model Inference"
   ]
  },
  {
   "cell_type": "code",
   "execution_count": 20,
   "id": "06cda2f3",
   "metadata": {},
   "outputs": [
    {
     "name": "stdout",
     "output_type": "stream",
     "text": [
      "Predicted label: 2\n"
     ]
    }
   ],
   "source": [
    "test_sentence = \"I hate this amusement park.\"\n",
    "\n",
    "# tokenize input\n",
    "inputs = tokenizer(\"Classify sentiment: \" + test_sentence, \n",
    "                   return_tensors=\"pt\").to(device)\n",
    "\n",
    "# get outputs and predicted label (highest probability)\n",
    "with torch.no_grad():\n",
    "    outputs = t5_model(**inputs)\n",
    "    pred = outputs.logits.argmax(dim = -1).item()\n",
    "\n",
    "print(\"Predicted label:\", pred)"
   ]
  },
  {
   "cell_type": "code",
   "execution_count": null,
   "id": "155e63e2",
   "metadata": {},
   "outputs": [],
   "source": []
  }
 ],
 "metadata": {
  "kernelspec": {
   "display_name": "temp",
   "language": "python",
   "name": "python3"
  },
  "language_info": {
   "codemirror_mode": {
    "name": "ipython",
    "version": 3
   },
   "file_extension": ".py",
   "mimetype": "text/x-python",
   "name": "python",
   "nbconvert_exporter": "python",
   "pygments_lexer": "ipython3",
   "version": "3.11.13"
  }
 },
 "nbformat": 4,
 "nbformat_minor": 5
}
