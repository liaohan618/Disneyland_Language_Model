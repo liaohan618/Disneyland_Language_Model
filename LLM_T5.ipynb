{
 "cells": [
  {
   "cell_type": "markdown",
   "id": "65975c2d",
   "metadata": {},
   "source": [
    "# LLM Model for Sentiment Analysis - T5 (Text-to-Text Transfer Transformer)"
   ]
  },
  {
   "cell_type": "markdown",
   "id": "46f69415",
   "metadata": {},
   "source": [
    "# Library Imports"
   ]
  },
  {
   "cell_type": "code",
   "execution_count": 1,
   "id": "22161d64",
   "metadata": {},
   "outputs": [
    {
     "name": "stderr",
     "output_type": "stream",
     "text": [
      "/opt/anaconda3/envs/temp/lib/python3.11/site-packages/tqdm/auto.py:21: TqdmWarning: IProgress not found. Please update jupyter and ipywidgets. See https://ipywidgets.readthedocs.io/en/stable/user_install.html\n",
      "  from .autonotebook import tqdm as notebook_tqdm\n"
     ]
    }
   ],
   "source": [
    "# pip install transformers\n",
    "# pip install datasets\n",
    "# pip install sentencepiece\n",
    "# pip install evaluate\n",
    "\n",
    "import pandas as pd\n",
    "from datasets import Dataset\n",
    "from transformers import (\n",
    "    AutoTokenizer,\n",
    "    T5ForSequenceClassification, # T5 for specifically classification task\n",
    "    TrainingArguments,\n",
    "    Trainer\n",
    ")\n",
    "import evaluate\n",
    "import torch\n",
    "from torch.utils.data import DataLoader"
   ]
  },
  {
   "cell_type": "code",
   "execution_count": 2,
   "id": "fbd3407f",
   "metadata": {},
   "outputs": [
    {
     "name": "stdout",
     "output_type": "stream",
     "text": [
      "Using device: mps\n"
     ]
    }
   ],
   "source": [
    "# check device type\n",
    "if torch.cuda.is_available():\n",
    "    device = torch.device(\"cuda\")   # NVIDIA GPU\n",
    "elif torch.backends.mps.is_available():\n",
    "    device = torch.device(\"mps\")    # Apple Silicon GPU\n",
    "else:\n",
    "    device = torch.device(\"cpu\")    # fallback\n",
    "\n",
    "print(\"Using device:\", device)"
   ]
  },
  {
   "cell_type": "markdown",
   "id": "0f2c4b8e",
   "metadata": {},
   "source": [
    "# Data Loading and Train-Test-Split"
   ]
  },
  {
   "cell_type": "code",
   "execution_count": 3,
   "id": "e4143eb8",
   "metadata": {},
   "outputs": [
    {
     "data": {
      "text/html": [
       "<div>\n",
       "<style scoped>\n",
       "    .dataframe tbody tr th:only-of-type {\n",
       "        vertical-align: middle;\n",
       "    }\n",
       "\n",
       "    .dataframe tbody tr th {\n",
       "        vertical-align: top;\n",
       "    }\n",
       "\n",
       "    .dataframe thead th {\n",
       "        text-align: right;\n",
       "    }\n",
       "</style>\n",
       "<table border=\"1\" class=\"dataframe\">\n",
       "  <thead>\n",
       "    <tr style=\"text-align: right;\">\n",
       "      <th></th>\n",
       "      <th>Review_ID</th>\n",
       "      <th>Rating</th>\n",
       "      <th>Year_Month</th>\n",
       "      <th>Reviewer_Location</th>\n",
       "      <th>Review_Text</th>\n",
       "      <th>Branch</th>\n",
       "    </tr>\n",
       "  </thead>\n",
       "  <tbody>\n",
       "    <tr>\n",
       "      <th>0</th>\n",
       "      <td>670772142</td>\n",
       "      <td>4</td>\n",
       "      <td>2019-4</td>\n",
       "      <td>Australia</td>\n",
       "      <td>If you've ever been to Disneyland anywhere you...</td>\n",
       "      <td>Disneyland_HongKong</td>\n",
       "    </tr>\n",
       "    <tr>\n",
       "      <th>1</th>\n",
       "      <td>670682799</td>\n",
       "      <td>4</td>\n",
       "      <td>2019-5</td>\n",
       "      <td>Philippines</td>\n",
       "      <td>Its been a while since d last time we visit HK...</td>\n",
       "      <td>Disneyland_HongKong</td>\n",
       "    </tr>\n",
       "    <tr>\n",
       "      <th>2</th>\n",
       "      <td>670623270</td>\n",
       "      <td>4</td>\n",
       "      <td>2019-4</td>\n",
       "      <td>United Arab Emirates</td>\n",
       "      <td>Thanks God it wasn   t too hot or too humid wh...</td>\n",
       "      <td>Disneyland_HongKong</td>\n",
       "    </tr>\n",
       "    <tr>\n",
       "      <th>3</th>\n",
       "      <td>670607911</td>\n",
       "      <td>4</td>\n",
       "      <td>2019-4</td>\n",
       "      <td>Australia</td>\n",
       "      <td>HK Disneyland is a great compact park. Unfortu...</td>\n",
       "      <td>Disneyland_HongKong</td>\n",
       "    </tr>\n",
       "    <tr>\n",
       "      <th>4</th>\n",
       "      <td>670607296</td>\n",
       "      <td>4</td>\n",
       "      <td>2019-4</td>\n",
       "      <td>United Kingdom</td>\n",
       "      <td>the location is not in the city, took around 1...</td>\n",
       "      <td>Disneyland_HongKong</td>\n",
       "    </tr>\n",
       "  </tbody>\n",
       "</table>\n",
       "</div>"
      ],
      "text/plain": [
       "   Review_ID  Rating Year_Month     Reviewer_Location  \\\n",
       "0  670772142       4     2019-4             Australia   \n",
       "1  670682799       4     2019-5           Philippines   \n",
       "2  670623270       4     2019-4  United Arab Emirates   \n",
       "3  670607911       4     2019-4             Australia   \n",
       "4  670607296       4     2019-4        United Kingdom   \n",
       "\n",
       "                                         Review_Text               Branch  \n",
       "0  If you've ever been to Disneyland anywhere you...  Disneyland_HongKong  \n",
       "1  Its been a while since d last time we visit HK...  Disneyland_HongKong  \n",
       "2  Thanks God it wasn   t too hot or too humid wh...  Disneyland_HongKong  \n",
       "3  HK Disneyland is a great compact park. Unfortu...  Disneyland_HongKong  \n",
       "4  the location is not in the city, took around 1...  Disneyland_HongKong  "
      ]
     },
     "execution_count": 3,
     "metadata": {},
     "output_type": "execute_result"
    }
   ],
   "source": [
    "df = pd.read_csv(\"DisneylandReviews.csv\",\n",
    "                 encoding = 'latin-1')\n",
    "df.head()"
   ]
  },
  {
   "cell_type": "code",
   "execution_count": 4,
   "id": "fd989e6d",
   "metadata": {},
   "outputs": [],
   "source": [
    "##### USE THIS TO TEST SMALLER SAMPLE #######\n",
    "df = df.sample(n = 10000, \n",
    "               random_state=42)"
   ]
  },
  {
   "cell_type": "code",
   "execution_count": 5,
   "id": "4f7e0827",
   "metadata": {},
   "outputs": [],
   "source": [
    "# keep the text and label\n",
    "df = dict(df[['Review_Text', 'Rating']])"
   ]
  },
  {
   "cell_type": "code",
   "execution_count": 6,
   "id": "caec1732",
   "metadata": {},
   "outputs": [
    {
     "data": {
      "text/plain": [
       "Dataset({\n",
       "    features: ['Review_Text', 'Rating'],\n",
       "    num_rows: 10000\n",
       "})"
      ]
     },
     "execution_count": 6,
     "metadata": {},
     "output_type": "execute_result"
    }
   ],
   "source": [
    "# convert to Hugging Face dataset\n",
    "dataset = Dataset.from_dict(df)\n",
    "dataset"
   ]
  },
  {
   "cell_type": "markdown",
   "id": "7826ecd4",
   "metadata": {},
   "source": [
    "# Preprocessing"
   ]
  },
  {
   "cell_type": "code",
   "execution_count": 7,
   "id": "fb15de03",
   "metadata": {},
   "outputs": [],
   "source": [
    "model_name = 'google-t5/t5-small'"
   ]
  },
  {
   "cell_type": "code",
   "execution_count": 8,
   "id": "b827536f",
   "metadata": {},
   "outputs": [],
   "source": [
    "# load tokenizer\n",
    "tokenizer = AutoTokenizer.from_pretrained(model_name)"
   ]
  },
  {
   "cell_type": "code",
   "execution_count": 9,
   "id": "687ae774",
   "metadata": {},
   "outputs": [
    {
     "name": "stderr",
     "output_type": "stream",
     "text": [
      "Map: 100%|██████████| 10000/10000 [00:01<00:00, 5114.50 examples/s]\n"
     ]
    }
   ],
   "source": [
    "def preprocess_function(reviews):\n",
    "\n",
    "    # task\n",
    "    inputs = [f\"classify sentiment: {review}\" for review in reviews['Review_Text']]\n",
    "\n",
    "    # tokenize inputs\n",
    "    model_inputs = tokenizer(inputs,\n",
    "                             padding = True,\n",
    "                             truncation = True,\n",
    "                             max_length = 128)\n",
    "    \n",
    "    # append labels\n",
    "    model_inputs['labels'] = reviews['Rating']\n",
    "\n",
    "    return model_inputs\n",
    "\n",
    "# apply preprocessing\n",
    "tokenized_datasets = dataset.map(preprocess_function,\n",
    "                                 batched = True)"
   ]
  },
  {
   "cell_type": "code",
   "execution_count": 10,
   "id": "d251aa22",
   "metadata": {},
   "outputs": [],
   "source": [
    "# train test split\n",
    "tokenized_datasets = tokenized_datasets.train_test_split(test_size = 0.2)\n",
    "train_dataset = tokenized_datasets['train']\n",
    "eval_dataset = tokenized_datasets['test']"
   ]
  },
  {
   "cell_type": "markdown",
   "id": "437933a6",
   "metadata": {},
   "source": [
    "# T5 (Text-to-Text Transfer Transformer) Model"
   ]
  },
  {
   "cell_type": "code",
   "execution_count": 11,
   "id": "776db9f0",
   "metadata": {},
   "outputs": [
    {
     "name": "stderr",
     "output_type": "stream",
     "text": [
      "Some weights of T5ForSequenceClassification were not initialized from the model checkpoint at google-t5/t5-small and are newly initialized: ['classification_head.dense.bias', 'classification_head.dense.weight', 'classification_head.out_proj.bias', 'classification_head.out_proj.weight']\n",
      "You should probably TRAIN this model on a down-stream task to be able to use it for predictions and inference.\n"
     ]
    }
   ],
   "source": [
    "t5_model = T5ForSequenceClassification.from_pretrained(model_name, \n",
    "                                                      num_labels = 5).to(device)"
   ]
  },
  {
   "cell_type": "markdown",
   "id": "923dedbb",
   "metadata": {},
   "source": [
    "## Training Arguments"
   ]
  },
  {
   "cell_type": "code",
   "execution_count": 15,
   "id": "36dbe30c",
   "metadata": {},
   "outputs": [],
   "source": [
    "training_args = TrainingArguments(\n",
    "    output_dir = \"./results\",\n",
    "    eval_strategy = \"steps\",\n",
    "    eval_steps = 50,\n",
    "    save_steps = 100,\n",
    "    save_total_limit = 2,\n",
    "    logging_steps = 10,\n",
    "    learning_rate = 1e-4,\n",
    "    per_device_train_batch_size = 8, # small batch to fit GPU\n",
    "    per_device_eval_batch_size = 8,\n",
    "    gradient_accumulation_steps = 4, # effective batch size = train batch size x gradient accumulation steps (8 x 4 = 32)\n",
    "    num_train_epochs = 1,\n",
    "    weight_decay = 0.01,\n",
    "    report_to = 'none' # avoids unnecessary logging\n",
    " )"
   ]
  },
  {
   "cell_type": "markdown",
   "id": "d098d0f1",
   "metadata": {},
   "source": [
    "## Trainer"
   ]
  },
  {
   "cell_type": "code",
   "execution_count": 16,
   "id": "e3e3dd0d",
   "metadata": {},
   "outputs": [
    {
     "name": "stderr",
     "output_type": "stream",
     "text": [
      "/var/folders/x8/_2v65kgx1zxc0k4y6d9hts5h0000gn/T/ipykernel_12274/709607782.py:1: FutureWarning: `tokenizer` is deprecated and will be removed in version 5.0.0 for `Trainer.__init__`. Use `processing_class` instead.\n",
      "  trainer = Trainer(\n"
     ]
    }
   ],
   "source": [
    "trainer = Trainer(\n",
    "    model = t5_model,\n",
    "    args = training_args,\n",
    "    train_dataset = train_dataset,\n",
    "    eval_dataset = eval_dataset,\n",
    "    tokenizer = tokenizer\n",
    ")\n"
   ]
  },
  {
   "cell_type": "markdown",
   "id": "da2ed8f9",
   "metadata": {},
   "source": [
    "## Model Train"
   ]
  },
  {
   "cell_type": "code",
   "execution_count": 17,
   "id": "26a7ee9b",
   "metadata": {},
   "outputs": [
    {
     "data": {
      "text/html": [
       "\n",
       "    <div>\n",
       "      \n",
       "      <progress value='250' max='250' style='width:300px; height:20px; vertical-align: middle;'></progress>\n",
       "      [250/250 10:44, Epoch 1/1]\n",
       "    </div>\n",
       "    <table border=\"1\" class=\"dataframe\">\n",
       "  <thead>\n",
       " <tr style=\"text-align: left;\">\n",
       "      <th>Step</th>\n",
       "      <th>Training Loss</th>\n",
       "      <th>Validation Loss</th>\n",
       "    </tr>\n",
       "  </thead>\n",
       "  <tbody>\n",
       "    <tr>\n",
       "      <td>50</td>\n",
       "      <td>0.566500</td>\n",
       "      <td>0.515965</td>\n",
       "    </tr>\n",
       "    <tr>\n",
       "      <td>100</td>\n",
       "      <td>0.454000</td>\n",
       "      <td>0.510038</td>\n",
       "    </tr>\n",
       "    <tr>\n",
       "      <td>150</td>\n",
       "      <td>0.406500</td>\n",
       "      <td>0.514912</td>\n",
       "    </tr>\n",
       "    <tr>\n",
       "      <td>200</td>\n",
       "      <td>0.488300</td>\n",
       "      <td>0.503110</td>\n",
       "    </tr>\n",
       "    <tr>\n",
       "      <td>250</td>\n",
       "      <td>0.486500</td>\n",
       "      <td>0.502424</td>\n",
       "    </tr>\n",
       "  </tbody>\n",
       "</table><p>"
      ],
      "text/plain": [
       "<IPython.core.display.HTML object>"
      ]
     },
     "metadata": {},
     "output_type": "display_data"
    },
    {
     "name": "stdout",
     "output_type": "stream",
     "text": [
      "CPU times: user 9min 40s, sys: 2min 20s, total: 12min\n",
      "Wall time: 10min 45s\n"
     ]
    },
    {
     "data": {
      "text/plain": [
       "TrainOutput(global_step=250, training_loss=0.49530706405639646, metrics={'train_runtime': 645.7282, 'train_samples_per_second': 12.389, 'train_steps_per_second': 0.387, 'total_flos': 272313120768000.0, 'train_loss': 0.49530706405639646, 'epoch': 1.0})"
      ]
     },
     "execution_count": 17,
     "metadata": {},
     "output_type": "execute_result"
    }
   ],
   "source": [
    "%%time\n",
    "trainer.train()"
   ]
  },
  {
   "cell_type": "code",
   "execution_count": 18,
   "id": "8e0aa439",
   "metadata": {},
   "outputs": [
    {
     "data": {
      "text/plain": [
       "('./saved_t5_model/tokenizer_config.json',\n",
       " './saved_t5_model/special_tokens_map.json',\n",
       " './saved_t5_model/spiece.model',\n",
       " './saved_t5_model/added_tokens.json',\n",
       " './saved_t5_model/tokenizer.json')"
      ]
     },
     "execution_count": 18,
     "metadata": {},
     "output_type": "execute_result"
    }
   ],
   "source": [
    "trainer.save_model(\"./saved_t5_model\")\n",
    "tokenizer.save_pretrained(\"./saved_t5_model\")"
   ]
  },
  {
   "cell_type": "markdown",
   "id": "55398ae3",
   "metadata": {},
   "source": [
    "## Model Inference"
   ]
  },
  {
   "cell_type": "code",
   "execution_count": 19,
   "id": "06cda2f3",
   "metadata": {},
   "outputs": [
    {
     "name": "stdout",
     "output_type": "stream",
     "text": [
      "Predicted label: 4\n"
     ]
    }
   ],
   "source": [
    "test_sentence = \"I hate this amusement park.\"\n",
    "\n",
    "# tokenize input\n",
    "inputs = tokenizer(\"Classify sentiment: \" + test_sentence, \n",
    "                   return_tensors=\"pt\").to(device)\n",
    "\n",
    "# get outputs and predicted label (highest probability)\n",
    "with torch.no_grad():\n",
    "    outputs = t5_model(**inputs)\n",
    "    pred = outputs.logits.argmax(dim=-1).item()\n",
    "\n",
    "print(\"Predicted label:\", pred)"
   ]
  },
  {
   "cell_type": "code",
   "execution_count": null,
   "id": "155e63e2",
   "metadata": {},
   "outputs": [],
   "source": []
  }
 ],
 "metadata": {
  "kernelspec": {
   "display_name": "temp",
   "language": "python",
   "name": "python3"
  },
  "language_info": {
   "codemirror_mode": {
    "name": "ipython",
    "version": 3
   },
   "file_extension": ".py",
   "mimetype": "text/x-python",
   "name": "python",
   "nbconvert_exporter": "python",
   "pygments_lexer": "ipython3",
   "version": "3.11.13"
  }
 },
 "nbformat": 4,
 "nbformat_minor": 5
}
